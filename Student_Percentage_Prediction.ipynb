{
  "nbformat": 4,
  "nbformat_minor": 0,
  "metadata": {
    "colab": {
      "name": "Student Percentage Prediction",
      "provenance": [],
      "collapsed_sections": []
    },
    "kernelspec": {
      "name": "python3",
      "display_name": "Python 3"
    }
  },
  "cells": [
    {
      "cell_type": "markdown",
      "metadata": {
        "id": "S5QQ9THL_nyq"
      },
      "source": [
        "# Prediction using Supervised ML "
      ]
    },
    {
      "cell_type": "markdown",
      "metadata": {
        "id": "5PKqZQtK_tqB"
      },
      "source": [
        "## Importing Required Modules"
      ]
    },
    {
      "cell_type": "code",
      "metadata": {
        "id": "bHJlsn6P_apg"
      },
      "source": [
        "import pandas as pd\r\n",
        "import numpy as np\r\n",
        "import matplotlib.pyplot as plt\r\n",
        "plt.style.use('fivethirtyeight')\r\n",
        "%matplotlib inline"
      ],
      "execution_count": 1,
      "outputs": []
    },
    {
      "cell_type": "markdown",
      "metadata": {
        "id": "tcZbVXAX_4r4"
      },
      "source": [
        "## DATA Preprocessing"
      ]
    },
    {
      "cell_type": "markdown",
      "metadata": {
        "id": "Wzh6HFp2___i"
      },
      "source": [
        "**TASK**\r\n",
        "\r\n",
        "The Following tasks will be performed with the help of Python and relevant packages\r\n",
        "\r\n",
        "* Predict the percentage of an student based on the no. of study hours.\r\n",
        "* This is a simple linear regression task as it involves just 2 variables\r\n",
        "* What will be predicted score if a student studies for 9.25 hrs/ day? \r\n",
        "\r\n"
      ]
    },
    {
      "cell_type": "code",
      "metadata": {
        "colab": {
          "base_uri": "https://localhost:8080/"
        },
        "id": "G3CGjlX1Asuq",
        "outputId": "75b7226d-6816-4102-e9ff-4b7ab17600c5"
      },
      "source": [
        "# Loading the Data\r\n",
        "df = pd.read_csv(\"https://raw.githubusercontent.com/AdiPersonalWorks/Random/master/student_scores%20-%20student_scores.csv\") #Link contains data\r\n",
        "df.info()"
      ],
      "execution_count": 2,
      "outputs": [
        {
          "output_type": "stream",
          "text": [
            "<class 'pandas.core.frame.DataFrame'>\n",
            "RangeIndex: 25 entries, 0 to 24\n",
            "Data columns (total 2 columns):\n",
            " #   Column  Non-Null Count  Dtype  \n",
            "---  ------  --------------  -----  \n",
            " 0   Hours   25 non-null     float64\n",
            " 1   Scores  25 non-null     int64  \n",
            "dtypes: float64(1), int64(1)\n",
            "memory usage: 528.0 bytes\n"
          ],
          "name": "stdout"
        }
      ]
    },
    {
      "cell_type": "markdown",
      "metadata": {
        "id": "7N9p2MG5BABR"
      },
      "source": [
        "Our Data has two 2 fields, **\"Hours\"** which is of **float** datatype and **\"Scores\"** which is of **integer** datatype.\r\n",
        "\r\n",
        "There are **25 entries** in the csv file."
      ]
    },
    {
      "cell_type": "code",
      "metadata": {
        "colab": {
          "base_uri": "https://localhost:8080/",
          "height": 284
        },
        "id": "ovHhcSHwA-ql",
        "outputId": "597d30f9-59b8-476c-fd26-3c0f28fe2ab0"
      },
      "source": [
        "df.describe()"
      ],
      "execution_count": 3,
      "outputs": [
        {
          "output_type": "execute_result",
          "data": {
            "text/html": [
              "<div>\n",
              "<style scoped>\n",
              "    .dataframe tbody tr th:only-of-type {\n",
              "        vertical-align: middle;\n",
              "    }\n",
              "\n",
              "    .dataframe tbody tr th {\n",
              "        vertical-align: top;\n",
              "    }\n",
              "\n",
              "    .dataframe thead th {\n",
              "        text-align: right;\n",
              "    }\n",
              "</style>\n",
              "<table border=\"1\" class=\"dataframe\">\n",
              "  <thead>\n",
              "    <tr style=\"text-align: right;\">\n",
              "      <th></th>\n",
              "      <th>Hours</th>\n",
              "      <th>Scores</th>\n",
              "    </tr>\n",
              "  </thead>\n",
              "  <tbody>\n",
              "    <tr>\n",
              "      <th>count</th>\n",
              "      <td>25.000000</td>\n",
              "      <td>25.000000</td>\n",
              "    </tr>\n",
              "    <tr>\n",
              "      <th>mean</th>\n",
              "      <td>5.012000</td>\n",
              "      <td>51.480000</td>\n",
              "    </tr>\n",
              "    <tr>\n",
              "      <th>std</th>\n",
              "      <td>2.525094</td>\n",
              "      <td>25.286887</td>\n",
              "    </tr>\n",
              "    <tr>\n",
              "      <th>min</th>\n",
              "      <td>1.100000</td>\n",
              "      <td>17.000000</td>\n",
              "    </tr>\n",
              "    <tr>\n",
              "      <th>25%</th>\n",
              "      <td>2.700000</td>\n",
              "      <td>30.000000</td>\n",
              "    </tr>\n",
              "    <tr>\n",
              "      <th>50%</th>\n",
              "      <td>4.800000</td>\n",
              "      <td>47.000000</td>\n",
              "    </tr>\n",
              "    <tr>\n",
              "      <th>75%</th>\n",
              "      <td>7.400000</td>\n",
              "      <td>75.000000</td>\n",
              "    </tr>\n",
              "    <tr>\n",
              "      <th>max</th>\n",
              "      <td>9.200000</td>\n",
              "      <td>95.000000</td>\n",
              "    </tr>\n",
              "  </tbody>\n",
              "</table>\n",
              "</div>"
            ],
            "text/plain": [
              "           Hours     Scores\n",
              "count  25.000000  25.000000\n",
              "mean    5.012000  51.480000\n",
              "std     2.525094  25.286887\n",
              "min     1.100000  17.000000\n",
              "25%     2.700000  30.000000\n",
              "50%     4.800000  47.000000\n",
              "75%     7.400000  75.000000\n",
              "max     9.200000  95.000000"
            ]
          },
          "metadata": {
            "tags": []
          },
          "execution_count": 3
        }
      ]
    },
    {
      "cell_type": "markdown",
      "metadata": {
        "id": "4UBqYMQyBm2C"
      },
      "source": [
        "The **Maximum score** obtained by any student in our data is **95**, but the **average is 51**, which means the class has a good variation in student types. Note that **less number of study hours might not be the only reason for a student to score less marks.**\r\n",
        "\r\n",
        "It is also mentioned that he **maximum amount of time a student has studied is 9.2 hours**"
      ]
    },
    {
      "cell_type": "code",
      "metadata": {
        "colab": {
          "base_uri": "https://localhost:8080/",
          "height": 106
        },
        "id": "aWHWuVeGCmJO",
        "outputId": "1efef0a8-a12f-4775-8dfa-459351351bd8"
      },
      "source": [
        "df.corr()"
      ],
      "execution_count": 4,
      "outputs": [
        {
          "output_type": "execute_result",
          "data": {
            "text/html": [
              "<div>\n",
              "<style scoped>\n",
              "    .dataframe tbody tr th:only-of-type {\n",
              "        vertical-align: middle;\n",
              "    }\n",
              "\n",
              "    .dataframe tbody tr th {\n",
              "        vertical-align: top;\n",
              "    }\n",
              "\n",
              "    .dataframe thead th {\n",
              "        text-align: right;\n",
              "    }\n",
              "</style>\n",
              "<table border=\"1\" class=\"dataframe\">\n",
              "  <thead>\n",
              "    <tr style=\"text-align: right;\">\n",
              "      <th></th>\n",
              "      <th>Hours</th>\n",
              "      <th>Scores</th>\n",
              "    </tr>\n",
              "  </thead>\n",
              "  <tbody>\n",
              "    <tr>\n",
              "      <th>Hours</th>\n",
              "      <td>1.000000</td>\n",
              "      <td>0.976191</td>\n",
              "    </tr>\n",
              "    <tr>\n",
              "      <th>Scores</th>\n",
              "      <td>0.976191</td>\n",
              "      <td>1.000000</td>\n",
              "    </tr>\n",
              "  </tbody>\n",
              "</table>\n",
              "</div>"
            ],
            "text/plain": [
              "           Hours    Scores\n",
              "Hours   1.000000  0.976191\n",
              "Scores  0.976191  1.000000"
            ]
          },
          "metadata": {
            "tags": []
          },
          "execution_count": 4
        }
      ]
    },
    {
      "cell_type": "markdown",
      "metadata": {
        "id": "TRibq-dDKib1"
      },
      "source": [
        "We are able to see that the Scores is **97% Pearson correlated** with the Hours field in the dataset, which is only obvious. But, **note that the remaining 3% also matters and can at the worst or best affect the student's performance adversly**."
      ]
    },
    {
      "cell_type": "markdown",
      "metadata": {
        "id": "6ecv96nBRP3g"
      },
      "source": [
        "## Exploratory Data Analysis"
      ]
    },
    {
      "cell_type": "code",
      "metadata": {
        "colab": {
          "base_uri": "https://localhost:8080/",
          "height": 422
        },
        "id": "WYNhP4M_JXYj",
        "outputId": "d0dd0c9c-bbce-4da7-911c-0bec7c4d3d05"
      },
      "source": [
        "plt.figure(figsize=(22,6))\r\n",
        "plt.hist(df[\"Scores\"])"
      ],
      "execution_count": 5,
      "outputs": [
        {
          "output_type": "execute_result",
          "data": {
            "text/plain": [
              "(array([4., 5., 1., 3., 1., 2., 2., 2., 3., 2.]),\n",
              " array([17. , 24.8, 32.6, 40.4, 48.2, 56. , 63.8, 71.6, 79.4, 87.2, 95. ]),\n",
              " <a list of 10 Patch objects>)"
            ]
          },
          "metadata": {
            "tags": []
          },
          "execution_count": 5
        },
        {
          "output_type": "display_data",
          "data": {
            "image/png": "[encoded data removed]",
            "text/plain": [
              "<Figure size 1584x432 with 1 Axes>"
            ]
          },
          "metadata": {
            "tags": [],
            "needs_background": "light"
          }
        }
      ]
    },
    {
      "cell_type": "markdown",
      "metadata": {
        "id": "iNEwkJp7J0Ht"
      },
      "source": [
        "We are able to see that many students have scored less than 50, which also means that there might have been a problem with the quality of the teaching.\r\n",
        "\r\n",
        "It might also mean, that the students in this dataset have been taught by different teachers. Some were provided good quality education, whereas some were not."
      ]
    },
    {
      "cell_type": "code",
      "metadata": {
        "colab": {
          "base_uri": "https://localhost:8080/",
          "height": 419
        },
        "id": "nHR-RLUDBj4Q",
        "outputId": "8d044d02-d55f-478f-db39-d431ac7bdc03"
      },
      "source": [
        "plt.figure(figsize=(22,6))\r\n",
        "plt.scatter(df[\"Hours\"],df[\"Scores\"].where(df[\"Scores\"] > 50),c='r')\r\n",
        "plt.scatter(df[\"Hours\"],df[\"Scores\"].where(df[\"Scores\"] <= 50),c='b')\r\n",
        "plt.axhline(y=75,c='black',linewidth = 2)\r\n",
        "plt.axhline(y=50,c='black',linewidth = 2)\r\n",
        "plt.axhline(y=25,c='black',linewidth = 2)\r\n",
        "plt.axvline(x=3,c='black',linewidth = 2)\r\n",
        "plt.axvline(x=5,c='black',linewidth = 2)\r\n",
        "plt.axvline(x=7,c='black',linewidth = 2)\r\n",
        "plt.title(\"Scattering scores w.r.t Hours of Study\")\r\n",
        "plt.xlabel(\"Hours of Study\")\r\n",
        "plt.ylabel(\"Score\")"
      ],
      "execution_count": 6,
      "outputs": [
        {
          "output_type": "execute_result",
          "data": {
            "text/plain": [
              "Text(0, 0.5, 'Score')"
            ]
          },
          "metadata": {
            "tags": []
          },
          "execution_count": 6
        },
        {
          "output_type": "display_data",
          "data": {
            "image/png": "[encoded data removed]",
            "text/plain": [
              "<Figure size 1584x432 with 1 Axes>"
            ]
          },
          "metadata": {
            "tags": [],
            "needs_background": "light"
          }
        }
      ]
    },
    {
      "cell_type": "markdown",
      "metadata": {
        "id": "ntJEgzh8GB6d"
      },
      "source": [
        "From the above scatterplot we are able to see that,\r\n",
        "\r\n",
        "* Students who **study more than 7 hours** have **almost always crossed the 75 mark in scores**.\r\n",
        "\r\n",
        "* On an **Average a study time of 5 hours** gives a **50+  result** to most of the students.\r\n",
        "\r\n",
        "* Students who **studied less than 5 hours**, have **failed to cross the 50+ mark**.\r\n",
        "\r\n",
        "* There are some outliers:\r\n",
        "  * There is a student who studied for less than 5 hours, but still managed to  score 50+(but **only barely** 50+).\r\n",
        "  *  There is a student who has obtained less than 50, even after studying more than 5 hours. \r\n",
        "  \r\n",
        "  (This proves the fact that, **no. of study hours is an important but, not the only factor**, that comes in to play when deciding the student's marks)"
      ]
    },
    {
      "cell_type": "code",
      "metadata": {
        "id": "1IHtw-uHL70g"
      },
      "source": [
        "X = df.iloc[:,0].values # X contains hours column data\r\n",
        "y = df.iloc[:,1].values # y contains scores column data \r\n",
        "X = X.reshape(-1,1)"
      ],
      "execution_count": 7,
      "outputs": []
    },
    {
      "cell_type": "code",
      "metadata": {
        "colab": {
          "base_uri": "https://localhost:8080/"
        },
        "id": "dfEiR__BZOBV",
        "outputId": "8dc92b7a-c00d-4260-97d2-503d2e34291f"
      },
      "source": [
        "from sklearn.model_selection import train_test_split as tts\r\n",
        "X_train,X_test,y_train,y_test = tts(X,y,test_size = 0.2,random_state=0)\r\n",
        "\r\n",
        "print(X_train.shape,X_test.shape,y_train.shape,y_test.shape)"
      ],
      "execution_count": 8,
      "outputs": [
        {
          "output_type": "stream",
          "text": [
            "(20, 1) (5, 1) (20,) (5,)\n"
          ],
          "name": "stdout"
        }
      ]
    },
    {
      "cell_type": "code",
      "metadata": {
        "colab": {
          "base_uri": "https://localhost:8080/"
        },
        "id": "cvbACtpRIsUp",
        "outputId": "575f00ee-9395-431f-ac71-3fa2e0b7f021"
      },
      "source": [
        "#Importing the sklearn model for Linear Regression (This can also be done with the help of tensorflow, I am using sklearn for simplicity)\r\n",
        "from sklearn.linear_model import LinearRegression\r\n",
        "\r\n",
        "#Creating a Regression Object\r\n",
        "regressor = LinearRegression()\r\n",
        "\r\n",
        "regressor.fit(X_train,y_train)"
      ],
      "execution_count": 9,
      "outputs": [
        {
          "output_type": "execute_result",
          "data": {
            "text/plain": [
              "LinearRegression(copy_X=True, fit_intercept=True, n_jobs=None, normalize=False)"
            ]
          },
          "metadata": {
            "tags": []
          },
          "execution_count": 9
        }
      ]
    },
    {
      "cell_type": "code",
      "metadata": {
        "colab": {
          "base_uri": "https://localhost:8080/",
          "height": 419
        },
        "id": "pILFuuEiQ8Td",
        "outputId": "2bf1bba5-8aee-49a9-8e6c-91fded9dc602"
      },
      "source": [
        "plt.figure(figsize=(22,6))\r\n",
        "plt.scatter(df[\"Hours\"],df[\"Scores\"].where(df[\"Scores\"] > 50),c='r')\r\n",
        "plt.scatter(df[\"Hours\"],df[\"Scores\"].where(df[\"Scores\"] <= 50),c='b')\r\n",
        "plt.axhline(y=50,c='g',linewidth = 2)\r\n",
        "plt.axvline(x=5,c='g',linewidth = 2)\r\n",
        "plt.plot(X,regressor.coef_*X + regressor.intercept_,linewidth=2,c = 'black')\r\n",
        "plt.title(\"Scattering scores w.r.t Hours of Study(Regression Coefficient:{})\".format(regressor.coef_))\r\n",
        "plt.xlabel(\"Hours of Study\")\r\n",
        "plt.ylabel(\"Score\")"
      ],
      "execution_count": 10,
      "outputs": [
        {
          "output_type": "execute_result",
          "data": {
            "text/plain": [
              "Text(0, 0.5, 'Score')"
            ]
          },
          "metadata": {
            "tags": []
          },
          "execution_count": 10
        },
        {
          "output_type": "display_data",
          "data": {
            "image/png": "[encoded data removed]",
            "text/plain": [
              "<Figure size 1584x432 with 1 Axes>"
            ]
          },
          "metadata": {
            "tags": [],
            "needs_background": "light"
          }
        }
      ]
    },
    {
      "cell_type": "markdown",
      "metadata": {
        "id": "Q7rCbP0AO8vD"
      },
      "source": [
        "The Model has fit well on the given data."
      ]
    },
    {
      "cell_type": "markdown",
      "metadata": {
        "id": "qjPpLJvwaFsx"
      },
      "source": [
        "## Evaluating the Model"
      ]
    },
    {
      "cell_type": "code",
      "metadata": {
        "colab": {
          "base_uri": "https://localhost:8080/"
        },
        "id": "zEKWrQSZaE9a",
        "outputId": "6026395a-2fc2-4fba-b10c-860652acf19a"
      },
      "source": [
        "from sklearn.metrics import mean_absolute_error as mae\r\n",
        "y_pred = regressor.predict(X_test)\r\n",
        "\r\n",
        "print(\"The Mean Absolute Error of the model:\",mae(y_test,y_pred))"
      ],
      "execution_count": 11,
      "outputs": [
        {
          "output_type": "stream",
          "text": [
            "The Mean Absolute Error of the model: 4.183859899002982\n"
          ],
          "name": "stdout"
        }
      ]
    },
    {
      "cell_type": "markdown",
      "metadata": {
        "id": "65UUSKwKaVz_"
      },
      "source": [
        "## Predicting Output"
      ]
    },
    {
      "cell_type": "code",
      "metadata": {
        "id": "svBLckExPK11"
      },
      "source": [
        "def score_calculator(h):\r\n",
        "  print('The Student will most likely get: {} marks'.format(int(regressor.predict([[h]])[0])))"
      ],
      "execution_count": 12,
      "outputs": []
    },
    {
      "cell_type": "code",
      "metadata": {
        "colab": {
          "base_uri": "https://localhost:8080/"
        },
        "id": "luGjUrw1OscM",
        "outputId": "7f78bd00-cc80-4948-f3ea-ab46dfdff511"
      },
      "source": [
        "score_calculator(4)"
      ],
      "execution_count": 13,
      "outputs": [
        {
          "output_type": "stream",
          "text": [
            "The Student will most likely get: 41 marks\n"
          ],
          "name": "stdout"
        }
      ]
    },
    {
      "cell_type": "code",
      "metadata": {
        "colab": {
          "base_uri": "https://localhost:8080/"
        },
        "id": "VQDCH2jKPH1B",
        "outputId": "8feb91c5-55ed-4087-a660-9e7ffa2dbad0"
      },
      "source": [
        "score_calculator(5.5)"
      ],
      "execution_count": 14,
      "outputs": [
        {
          "output_type": "stream",
          "text": [
            "The Student will most likely get: 56 marks\n"
          ],
          "name": "stdout"
        }
      ]
    },
    {
      "cell_type": "code",
      "metadata": {
        "colab": {
          "base_uri": "https://localhost:8080/"
        },
        "id": "uDBUxVW8QR1H",
        "outputId": "f06a1de0-08b0-41d3-e27c-c2a6d32ecf8f"
      },
      "source": [
        "score_calculator(7)"
      ],
      "execution_count": 15,
      "outputs": [
        {
          "output_type": "stream",
          "text": [
            "The Student will most likely get: 71 marks\n"
          ],
          "name": "stdout"
        }
      ]
    },
    {
      "cell_type": "code",
      "metadata": {
        "colab": {
          "base_uri": "https://localhost:8080/"
        },
        "id": "IcRgkAlyQUfS",
        "outputId": "aa6427c5-edc0-415e-e567-408d012253b7"
      },
      "source": [
        "score_calculator(9.25)"
      ],
      "execution_count": 16,
      "outputs": [
        {
          "output_type": "stream",
          "text": [
            "The Student will most likely get: 93 marks\n"
          ],
          "name": "stdout"
        }
      ]
    },
    {
      "cell_type": "code",
      "metadata": {
        "id": "jaKae78JU0pE"
      },
      "source": [
        "#score_calculator(6)"
      ],
      "execution_count": 17,
      "outputs": []
    },
    {
      "cell_type": "markdown",
      "metadata": {
        "id": "nO4pDKvpQYU5"
      },
      "source": [
        "Therefore, by the above linear model, it is safe to conclude that a student who has studied for 9.25 hours will most likely get 92 marks in his exams."
      ]
    }
  ]
}