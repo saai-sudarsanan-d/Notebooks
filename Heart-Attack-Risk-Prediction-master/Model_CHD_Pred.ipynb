{
 "cells": [
  {
   "cell_type": "markdown",
   "metadata": {},
   "source": [
    "# Prediction of Risk of Heart Attack\n",
    "##### By Saai Sudarsanan D"
   ]
  },
  {
   "cell_type": "markdown",
   "metadata": {},
   "source": [
    "# Table of Contents\n",
    "* [Introduction](#Introduction)\n",
    "* [Data](#Data)\n",
    "* [Methodology](#Methodology)\n",
    "* [Analysis](#Analysis)\n",
    "    * [Data Cleaning](#Data-Cleaning)\n",
    "    * [Data Visualisation](#Visualisation)\n",
    "    * [Predicting- Logistic Regression](#Algorithm-(MultiVariate-Logistic-Regression))"
   ]
  },
  {
   "cell_type": "markdown",
   "metadata": {},
   "source": [
    "# Introduction"
   ]
  },
  {
   "cell_type": "markdown",
   "metadata": {},
   "source": [
    "Heart disease is the major cause of morbidity and mortality globally: it accounts for **more deaths annually than any other cause**. According to the **WHO**, an estimated **17.9 million people died** from heart disease in 2016, representing **31%** of all global deaths. Over **three quarters** of these deaths took place in **low- and middle-income countries**.\n",
    "\n",
    "A heart attack occurs when one or more of your **coronary arteries becomes blocked**. Over time, a buildup of fatty deposits, including cholesterol, form substances called **plaques**, which can narrow the arteries (atherosclerosis). This condition, called **coronary artery disease, causes most heart attacks**.\n",
    "\n",
    "Machine Learning can play an essential role in **predicting presence/absence of Locomotor disorders**, Heart diseases and more. Such information, **if predicted** well in advance, can **provide important insights** to doctors who can then adapt their **diagnosis** and **treatment** per patient basis."
   ]
  },
  {
   "cell_type": "markdown",
   "metadata": {},
   "source": [
    "# Data"
   ]
  },
  {
   "cell_type": "markdown",
   "metadata": {},
   "source": [
    "This database contains 76 attributes, but all published experiments refer to using a subset of 14 of them. In particular, the Cleveland database is the only one that has been used by ML researchers to\n",
    "this date. The \"goal\" field refers to the presence of heart disease in the patient.\n",
    "It is integer valued from 0 (no presence) to 4.\n",
    "* **age** - age(age in years)\n",
    "* **sex** - sex(1 = male; 0 = female)\n",
    "* **cp** - chest pain type (4 values)(1 = typical angina; 2 = atypical angina; 3 = non-anginal pain; 4 = asymptomatic)\n",
    "* **trestbp** - resting blood pressure(in mm Hg on admission to the hospital)\n",
    "* **chol** - serum cholestoral in mg/dl\n",
    "* **fbs** - fasting blood sugar > 120 mg/dl ( 0 or 1 ) \n",
    "* **restecg** - resting electrocardiographic results (values 0,1,2)(0 = normal; 1 = having ST-T; 2 = hypertrophy)\n",
    "* **thalach** - maximum heart rate achieved\n",
    "* **exang** - exercise induced angina\n",
    "* **oldpeak** - ST depression induced by exercise relative to rest\n",
    "* **slope** - the slope of the peak exercise ST segment(1 = upsloping; 2 = flat; 3 = downsloping)\n",
    "* **ca** - number of major vessels (0-3) colored by flourosopy\n",
    "* **thal** - 3 = normal; 6 = fixed defect; 7 = reversable defect\n",
    "\n",
    "**Creators:**\n",
    "\n",
    "* Hungarian Institute of Cardiology. Budapest: Andras Janosi, M.D.\n",
    "* University Hospital, Zurich, Switzerland: William Steinbrunn, M.D.\n",
    "* University Hospital, Basel, Switzerland: Matthias Pfisterer, M.D.\n",
    "* V.A. Medical Center, Long Beach and Cleveland Clinic Foundation: Robert Detrano, M.D., Ph.D.\n",
    "* Donor:\n",
    "* David W. Aha (aha '@' ics.uci.edu)\n",
    "\n",
    "We will also be looking at Chloropeth map generated with the help of data obtained and cleaned from WHO, comparing the countries that have higher mortality rates due to  heart attacks. We will be analysing how the Climatic conditions of some contries may contribute to this.\n",
    "The dataset contains: \n",
    "* The Country Name\n",
    "* Death Rate Per 100,000 (Due to Cardiovascular diseases - Age Standardized)\n",
    "* Latitude of the Country\n",
    "* Longitude of the Country"
   ]
  },
  {
   "cell_type": "markdown",
   "metadata": {},
   "source": [
    "# Methodology"
   ]
  },
  {
   "cell_type": "markdown",
   "metadata": {},
   "source": [
    "We will be using Decision Trees to predict a 10 year risk of developing coronary heart disease (CHD) — (binary: “1”, means “There is a risk”, “0” means “There is no risk”). Logistic Regression uses a sigmoid graph and varies between 0 and 1. We will have a closer look at the graph in the future. The algorith uses the patient's medicial history in order to predict.\n"
   ]
  },
  {
   "cell_type": "markdown",
   "metadata": {},
   "source": [
    "# Analysis"
   ]
  },
  {
   "cell_type": "code",
   "execution_count": 2,
   "metadata": {},
   "outputs": [],
   "source": [
    "import pandas as pd\n",
    "import numpy as np\n",
    "import matplotlib.pyplot as plt\n",
    "%matplotlib inline\n",
    "import seaborn as sns\n",
    "import folium"
   ]
  },
  {
   "cell_type": "markdown",
   "metadata": {},
   "source": [
    "### Data Cleaning"
   ]
  },
  {
   "cell_type": "code",
   "execution_count": 3,
   "metadata": {},
   "outputs": [
    {
     "name": "stdout",
     "output_type": "stream",
     "text": [
      "The DataFrame has 0 missing values\n"
     ]
    },
    {
     "data": {
      "text/html": [
       "<div>\n",
       "<style scoped>\n",
       "    .dataframe tbody tr th:only-of-type {\n",
       "        vertical-align: middle;\n",
       "    }\n",
       "\n",
       "    .dataframe tbody tr th {\n",
       "        vertical-align: top;\n",
       "    }\n",
       "\n",
       "    .dataframe thead th {\n",
       "        text-align: right;\n",
       "    }\n",
       "</style>\n",
       "<table border=\"1\" class=\"dataframe\">\n",
       "  <thead>\n",
       "    <tr style=\"text-align: right;\">\n",
       "      <th></th>\n",
       "      <th>age</th>\n",
       "      <th>sex</th>\n",
       "      <th>cp</th>\n",
       "      <th>trestbps</th>\n",
       "      <th>chol</th>\n",
       "      <th>fbs</th>\n",
       "      <th>restecg</th>\n",
       "      <th>thalach</th>\n",
       "      <th>exang</th>\n",
       "      <th>oldpeak</th>\n",
       "      <th>slope</th>\n",
       "      <th>ca</th>\n",
       "      <th>thal</th>\n",
       "      <th>target</th>\n",
       "    </tr>\n",
       "  </thead>\n",
       "  <tbody>\n",
       "    <tr>\n",
       "      <th>0</th>\n",
       "      <td>63</td>\n",
       "      <td>1</td>\n",
       "      <td>3</td>\n",
       "      <td>145</td>\n",
       "      <td>233</td>\n",
       "      <td>1</td>\n",
       "      <td>0</td>\n",
       "      <td>150</td>\n",
       "      <td>0</td>\n",
       "      <td>2.3</td>\n",
       "      <td>0</td>\n",
       "      <td>0</td>\n",
       "      <td>1</td>\n",
       "      <td>1</td>\n",
       "    </tr>\n",
       "    <tr>\n",
       "      <th>1</th>\n",
       "      <td>37</td>\n",
       "      <td>1</td>\n",
       "      <td>2</td>\n",
       "      <td>130</td>\n",
       "      <td>250</td>\n",
       "      <td>0</td>\n",
       "      <td>1</td>\n",
       "      <td>187</td>\n",
       "      <td>0</td>\n",
       "      <td>3.5</td>\n",
       "      <td>0</td>\n",
       "      <td>0</td>\n",
       "      <td>2</td>\n",
       "      <td>1</td>\n",
       "    </tr>\n",
       "    <tr>\n",
       "      <th>2</th>\n",
       "      <td>41</td>\n",
       "      <td>0</td>\n",
       "      <td>1</td>\n",
       "      <td>130</td>\n",
       "      <td>204</td>\n",
       "      <td>0</td>\n",
       "      <td>0</td>\n",
       "      <td>172</td>\n",
       "      <td>0</td>\n",
       "      <td>1.4</td>\n",
       "      <td>2</td>\n",
       "      <td>0</td>\n",
       "      <td>2</td>\n",
       "      <td>1</td>\n",
       "    </tr>\n",
       "    <tr>\n",
       "      <th>3</th>\n",
       "      <td>56</td>\n",
       "      <td>1</td>\n",
       "      <td>1</td>\n",
       "      <td>120</td>\n",
       "      <td>236</td>\n",
       "      <td>0</td>\n",
       "      <td>1</td>\n",
       "      <td>178</td>\n",
       "      <td>0</td>\n",
       "      <td>0.8</td>\n",
       "      <td>2</td>\n",
       "      <td>0</td>\n",
       "      <td>2</td>\n",
       "      <td>1</td>\n",
       "    </tr>\n",
       "    <tr>\n",
       "      <th>4</th>\n",
       "      <td>57</td>\n",
       "      <td>0</td>\n",
       "      <td>0</td>\n",
       "      <td>120</td>\n",
       "      <td>354</td>\n",
       "      <td>0</td>\n",
       "      <td>1</td>\n",
       "      <td>163</td>\n",
       "      <td>1</td>\n",
       "      <td>0.6</td>\n",
       "      <td>2</td>\n",
       "      <td>0</td>\n",
       "      <td>2</td>\n",
       "      <td>1</td>\n",
       "    </tr>\n",
       "  </tbody>\n",
       "</table>\n",
       "</div>"
      ],
      "text/plain": [
       "   age  sex  cp  trestbps  chol  fbs  restecg  thalach  exang  oldpeak  slope  \\\n",
       "0   63    1   3       145   233    1        0      150      0      2.3      0   \n",
       "1   37    1   2       130   250    0        1      187      0      3.5      0   \n",
       "2   41    0   1       130   204    0        0      172      0      1.4      2   \n",
       "3   56    1   1       120   236    0        1      178      0      0.8      2   \n",
       "4   57    0   0       120   354    0        1      163      1      0.6      2   \n",
       "\n",
       "   ca  thal  target  \n",
       "0   0     1       1  \n",
       "1   0     2       1  \n",
       "2   0     2       1  \n",
       "3   0     2       1  \n",
       "4   0     2       1  "
      ]
     },
     "execution_count": 3,
     "metadata": {},
     "output_type": "execute_result"
    }
   ],
   "source": [
    "df = pd.read_csv(r'C:\\Users\\saais\\Desktop\\Computer_programming\\Datasets\\Analysing the Risk of Heart Attacks using Logistic Regression\\heart.csv')\n",
    "countries = pd.read_csv(r'C:\\Users\\saais\\Desktop\\Computer_programming\\Datasets\\Analysing the Risk of Heart Attacks using Logistic Regression\\Heart_Attack_Mortality_Country_Wise.csv',index_col = ['Rank'])\n",
    "print('The DataFrame has ' + str(df.isnull().sum().sum()) + ' missing values')\n",
    "df.head()"
   ]
  },
  {
   "cell_type": "code",
   "execution_count": 4,
   "metadata": {},
   "outputs": [
    {
     "data": {
      "text/plain": [
       "(303, 14)"
      ]
     },
     "execution_count": 4,
     "metadata": {},
     "output_type": "execute_result"
    }
   ],
   "source": [
    "df.shape"
   ]
  },
  {
   "cell_type": "code",
   "execution_count": 99,
   "metadata": {},
   "outputs": [
    {
     "name": "stdout",
     "output_type": "stream",
     "text": [
      "The DataFrame has 0 missing values\n"
     ]
    },
    {
     "data": {
      "text/html": [
       "<div>\n",
       "<style scoped>\n",
       "    .dataframe tbody tr th:only-of-type {\n",
       "        vertical-align: middle;\n",
       "    }\n",
       "\n",
       "    .dataframe tbody tr th {\n",
       "        vertical-align: top;\n",
       "    }\n",
       "\n",
       "    .dataframe thead th {\n",
       "        text-align: right;\n",
       "    }\n",
       "</style>\n",
       "<table border=\"1\" class=\"dataframe\">\n",
       "  <thead>\n",
       "    <tr style=\"text-align: right;\">\n",
       "      <th></th>\n",
       "      <th>Name</th>\n",
       "      <th>Latitude</th>\n",
       "      <th>Longitude</th>\n",
       "      <th>Rate</th>\n",
       "    </tr>\n",
       "    <tr>\n",
       "      <th>Rank</th>\n",
       "      <th></th>\n",
       "      <th></th>\n",
       "      <th></th>\n",
       "      <th></th>\n",
       "    </tr>\n",
       "  </thead>\n",
       "  <tbody>\n",
       "    <tr>\n",
       "      <th>1</th>\n",
       "      <td>TURKMENISTAN</td>\n",
       "      <td>38.969719</td>\n",
       "      <td>59.556278</td>\n",
       "      <td>379.03</td>\n",
       "    </tr>\n",
       "    <tr>\n",
       "      <th>2</th>\n",
       "      <td>KYRGYZSTAN</td>\n",
       "      <td>41.204380</td>\n",
       "      <td>74.766098</td>\n",
       "      <td>361.17</td>\n",
       "    </tr>\n",
       "    <tr>\n",
       "      <th>3</th>\n",
       "      <td>YEMEN</td>\n",
       "      <td>15.552727</td>\n",
       "      <td>48.516388</td>\n",
       "      <td>345.80</td>\n",
       "    </tr>\n",
       "    <tr>\n",
       "      <th>4</th>\n",
       "      <td>UZBEKISTAN</td>\n",
       "      <td>41.377491</td>\n",
       "      <td>64.585262</td>\n",
       "      <td>331.98</td>\n",
       "    </tr>\n",
       "    <tr>\n",
       "      <th>5</th>\n",
       "      <td>UKRAINE</td>\n",
       "      <td>48.379433</td>\n",
       "      <td>31.165580</td>\n",
       "      <td>328.39</td>\n",
       "    </tr>\n",
       "  </tbody>\n",
       "</table>\n",
       "</div>"
      ],
      "text/plain": [
       "              Name   Latitude  Longitude    Rate\n",
       "Rank                                            \n",
       "1     TURKMENISTAN  38.969719  59.556278  379.03\n",
       "2       KYRGYZSTAN  41.204380  74.766098  361.17\n",
       "3            YEMEN  15.552727  48.516388  345.80\n",
       "4       UZBEKISTAN  41.377491  64.585262  331.98\n",
       "5          UKRAINE  48.379433  31.165580  328.39"
      ]
     },
     "execution_count": 99,
     "metadata": {},
     "output_type": "execute_result"
    }
   ],
   "source": [
    "print('The DataFrame has ' + str(countries.isnull().sum().sum()) + ' missing values')\n",
    "countries.head()"
   ]
  },
  {
   "cell_type": "code",
   "execution_count": 6,
   "metadata": {},
   "outputs": [
    {
     "data": {
      "text/html": [
       "<div>\n",
       "<style scoped>\n",
       "    .dataframe tbody tr th:only-of-type {\n",
       "        vertical-align: middle;\n",
       "    }\n",
       "\n",
       "    .dataframe tbody tr th {\n",
       "        vertical-align: top;\n",
       "    }\n",
       "\n",
       "    .dataframe thead th {\n",
       "        text-align: right;\n",
       "    }\n",
       "</style>\n",
       "<table border=\"1\" class=\"dataframe\">\n",
       "  <thead>\n",
       "    <tr style=\"text-align: right;\">\n",
       "      <th></th>\n",
       "      <th>age</th>\n",
       "      <th>sex</th>\n",
       "      <th>cp</th>\n",
       "      <th>trestbps</th>\n",
       "      <th>chol</th>\n",
       "      <th>fbs</th>\n",
       "      <th>restecg</th>\n",
       "      <th>thalach</th>\n",
       "      <th>exang</th>\n",
       "      <th>oldpeak</th>\n",
       "      <th>slope</th>\n",
       "      <th>ca</th>\n",
       "      <th>thal</th>\n",
       "      <th>target</th>\n",
       "    </tr>\n",
       "  </thead>\n",
       "  <tbody>\n",
       "    <tr>\n",
       "      <th>age</th>\n",
       "      <td>1.000000</td>\n",
       "      <td>-0.098447</td>\n",
       "      <td>-0.068653</td>\n",
       "      <td>0.279351</td>\n",
       "      <td>0.213678</td>\n",
       "      <td>0.121308</td>\n",
       "      <td>-0.116211</td>\n",
       "      <td>-0.398522</td>\n",
       "      <td>0.096801</td>\n",
       "      <td>0.210013</td>\n",
       "      <td>-0.168814</td>\n",
       "      <td>0.276326</td>\n",
       "      <td>0.068001</td>\n",
       "      <td>-0.225439</td>\n",
       "    </tr>\n",
       "    <tr>\n",
       "      <th>sex</th>\n",
       "      <td>-0.098447</td>\n",
       "      <td>1.000000</td>\n",
       "      <td>-0.049353</td>\n",
       "      <td>-0.056769</td>\n",
       "      <td>-0.197912</td>\n",
       "      <td>0.045032</td>\n",
       "      <td>-0.058196</td>\n",
       "      <td>-0.044020</td>\n",
       "      <td>0.141664</td>\n",
       "      <td>0.096093</td>\n",
       "      <td>-0.030711</td>\n",
       "      <td>0.118261</td>\n",
       "      <td>0.210041</td>\n",
       "      <td>-0.280937</td>\n",
       "    </tr>\n",
       "    <tr>\n",
       "      <th>cp</th>\n",
       "      <td>-0.068653</td>\n",
       "      <td>-0.049353</td>\n",
       "      <td>1.000000</td>\n",
       "      <td>0.047608</td>\n",
       "      <td>-0.076904</td>\n",
       "      <td>0.094444</td>\n",
       "      <td>0.044421</td>\n",
       "      <td>0.295762</td>\n",
       "      <td>-0.394280</td>\n",
       "      <td>-0.149230</td>\n",
       "      <td>0.119717</td>\n",
       "      <td>-0.181053</td>\n",
       "      <td>-0.161736</td>\n",
       "      <td>0.433798</td>\n",
       "    </tr>\n",
       "    <tr>\n",
       "      <th>trestbps</th>\n",
       "      <td>0.279351</td>\n",
       "      <td>-0.056769</td>\n",
       "      <td>0.047608</td>\n",
       "      <td>1.000000</td>\n",
       "      <td>0.123174</td>\n",
       "      <td>0.177531</td>\n",
       "      <td>-0.114103</td>\n",
       "      <td>-0.046698</td>\n",
       "      <td>0.067616</td>\n",
       "      <td>0.193216</td>\n",
       "      <td>-0.121475</td>\n",
       "      <td>0.101389</td>\n",
       "      <td>0.062210</td>\n",
       "      <td>-0.144931</td>\n",
       "    </tr>\n",
       "    <tr>\n",
       "      <th>chol</th>\n",
       "      <td>0.213678</td>\n",
       "      <td>-0.197912</td>\n",
       "      <td>-0.076904</td>\n",
       "      <td>0.123174</td>\n",
       "      <td>1.000000</td>\n",
       "      <td>0.013294</td>\n",
       "      <td>-0.151040</td>\n",
       "      <td>-0.009940</td>\n",
       "      <td>0.067023</td>\n",
       "      <td>0.053952</td>\n",
       "      <td>-0.004038</td>\n",
       "      <td>0.070511</td>\n",
       "      <td>0.098803</td>\n",
       "      <td>-0.085239</td>\n",
       "    </tr>\n",
       "    <tr>\n",
       "      <th>fbs</th>\n",
       "      <td>0.121308</td>\n",
       "      <td>0.045032</td>\n",
       "      <td>0.094444</td>\n",
       "      <td>0.177531</td>\n",
       "      <td>0.013294</td>\n",
       "      <td>1.000000</td>\n",
       "      <td>-0.084189</td>\n",
       "      <td>-0.008567</td>\n",
       "      <td>0.025665</td>\n",
       "      <td>0.005747</td>\n",
       "      <td>-0.059894</td>\n",
       "      <td>0.137979</td>\n",
       "      <td>-0.032019</td>\n",
       "      <td>-0.028046</td>\n",
       "    </tr>\n",
       "    <tr>\n",
       "      <th>restecg</th>\n",
       "      <td>-0.116211</td>\n",
       "      <td>-0.058196</td>\n",
       "      <td>0.044421</td>\n",
       "      <td>-0.114103</td>\n",
       "      <td>-0.151040</td>\n",
       "      <td>-0.084189</td>\n",
       "      <td>1.000000</td>\n",
       "      <td>0.044123</td>\n",
       "      <td>-0.070733</td>\n",
       "      <td>-0.058770</td>\n",
       "      <td>0.093045</td>\n",
       "      <td>-0.072042</td>\n",
       "      <td>-0.011981</td>\n",
       "      <td>0.137230</td>\n",
       "    </tr>\n",
       "    <tr>\n",
       "      <th>thalach</th>\n",
       "      <td>-0.398522</td>\n",
       "      <td>-0.044020</td>\n",
       "      <td>0.295762</td>\n",
       "      <td>-0.046698</td>\n",
       "      <td>-0.009940</td>\n",
       "      <td>-0.008567</td>\n",
       "      <td>0.044123</td>\n",
       "      <td>1.000000</td>\n",
       "      <td>-0.378812</td>\n",
       "      <td>-0.344187</td>\n",
       "      <td>0.386784</td>\n",
       "      <td>-0.213177</td>\n",
       "      <td>-0.096439</td>\n",
       "      <td>0.421741</td>\n",
       "    </tr>\n",
       "    <tr>\n",
       "      <th>exang</th>\n",
       "      <td>0.096801</td>\n",
       "      <td>0.141664</td>\n",
       "      <td>-0.394280</td>\n",
       "      <td>0.067616</td>\n",
       "      <td>0.067023</td>\n",
       "      <td>0.025665</td>\n",
       "      <td>-0.070733</td>\n",
       "      <td>-0.378812</td>\n",
       "      <td>1.000000</td>\n",
       "      <td>0.288223</td>\n",
       "      <td>-0.257748</td>\n",
       "      <td>0.115739</td>\n",
       "      <td>0.206754</td>\n",
       "      <td>-0.436757</td>\n",
       "    </tr>\n",
       "    <tr>\n",
       "      <th>oldpeak</th>\n",
       "      <td>0.210013</td>\n",
       "      <td>0.096093</td>\n",
       "      <td>-0.149230</td>\n",
       "      <td>0.193216</td>\n",
       "      <td>0.053952</td>\n",
       "      <td>0.005747</td>\n",
       "      <td>-0.058770</td>\n",
       "      <td>-0.344187</td>\n",
       "      <td>0.288223</td>\n",
       "      <td>1.000000</td>\n",
       "      <td>-0.577537</td>\n",
       "      <td>0.222682</td>\n",
       "      <td>0.210244</td>\n",
       "      <td>-0.430696</td>\n",
       "    </tr>\n",
       "    <tr>\n",
       "      <th>slope</th>\n",
       "      <td>-0.168814</td>\n",
       "      <td>-0.030711</td>\n",
       "      <td>0.119717</td>\n",
       "      <td>-0.121475</td>\n",
       "      <td>-0.004038</td>\n",
       "      <td>-0.059894</td>\n",
       "      <td>0.093045</td>\n",
       "      <td>0.386784</td>\n",
       "      <td>-0.257748</td>\n",
       "      <td>-0.577537</td>\n",
       "      <td>1.000000</td>\n",
       "      <td>-0.080155</td>\n",
       "      <td>-0.104764</td>\n",
       "      <td>0.345877</td>\n",
       "    </tr>\n",
       "    <tr>\n",
       "      <th>ca</th>\n",
       "      <td>0.276326</td>\n",
       "      <td>0.118261</td>\n",
       "      <td>-0.181053</td>\n",
       "      <td>0.101389</td>\n",
       "      <td>0.070511</td>\n",
       "      <td>0.137979</td>\n",
       "      <td>-0.072042</td>\n",
       "      <td>-0.213177</td>\n",
       "      <td>0.115739</td>\n",
       "      <td>0.222682</td>\n",
       "      <td>-0.080155</td>\n",
       "      <td>1.000000</td>\n",
       "      <td>0.151832</td>\n",
       "      <td>-0.391724</td>\n",
       "    </tr>\n",
       "    <tr>\n",
       "      <th>thal</th>\n",
       "      <td>0.068001</td>\n",
       "      <td>0.210041</td>\n",
       "      <td>-0.161736</td>\n",
       "      <td>0.062210</td>\n",
       "      <td>0.098803</td>\n",
       "      <td>-0.032019</td>\n",
       "      <td>-0.011981</td>\n",
       "      <td>-0.096439</td>\n",
       "      <td>0.206754</td>\n",
       "      <td>0.210244</td>\n",
       "      <td>-0.104764</td>\n",
       "      <td>0.151832</td>\n",
       "      <td>1.000000</td>\n",
       "      <td>-0.344029</td>\n",
       "    </tr>\n",
       "    <tr>\n",
       "      <th>target</th>\n",
       "      <td>-0.225439</td>\n",
       "      <td>-0.280937</td>\n",
       "      <td>0.433798</td>\n",
       "      <td>-0.144931</td>\n",
       "      <td>-0.085239</td>\n",
       "      <td>-0.028046</td>\n",
       "      <td>0.137230</td>\n",
       "      <td>0.421741</td>\n",
       "      <td>-0.436757</td>\n",
       "      <td>-0.430696</td>\n",
       "      <td>0.345877</td>\n",
       "      <td>-0.391724</td>\n",
       "      <td>-0.344029</td>\n",
       "      <td>1.000000</td>\n",
       "    </tr>\n",
       "  </tbody>\n",
       "</table>\n",
       "</div>"
      ],
      "text/plain": [
       "               age       sex        cp  trestbps      chol       fbs  \\\n",
       "age       1.000000 -0.098447 -0.068653  0.279351  0.213678  0.121308   \n",
       "sex      -0.098447  1.000000 -0.049353 -0.056769 -0.197912  0.045032   \n",
       "cp       -0.068653 -0.049353  1.000000  0.047608 -0.076904  0.094444   \n",
       "trestbps  0.279351 -0.056769  0.047608  1.000000  0.123174  0.177531   \n",
       "chol      0.213678 -0.197912 -0.076904  0.123174  1.000000  0.013294   \n",
       "fbs       0.121308  0.045032  0.094444  0.177531  0.013294  1.000000   \n",
       "restecg  -0.116211 -0.058196  0.044421 -0.114103 -0.151040 -0.084189   \n",
       "thalach  -0.398522 -0.044020  0.295762 -0.046698 -0.009940 -0.008567   \n",
       "exang     0.096801  0.141664 -0.394280  0.067616  0.067023  0.025665   \n",
       "oldpeak   0.210013  0.096093 -0.149230  0.193216  0.053952  0.005747   \n",
       "slope    -0.168814 -0.030711  0.119717 -0.121475 -0.004038 -0.059894   \n",
       "ca        0.276326  0.118261 -0.181053  0.101389  0.070511  0.137979   \n",
       "thal      0.068001  0.210041 -0.161736  0.062210  0.098803 -0.032019   \n",
       "target   -0.225439 -0.280937  0.433798 -0.144931 -0.085239 -0.028046   \n",
       "\n",
       "           restecg   thalach     exang   oldpeak     slope        ca  \\\n",
       "age      -0.116211 -0.398522  0.096801  0.210013 -0.168814  0.276326   \n",
       "sex      -0.058196 -0.044020  0.141664  0.096093 -0.030711  0.118261   \n",
       "cp        0.044421  0.295762 -0.394280 -0.149230  0.119717 -0.181053   \n",
       "trestbps -0.114103 -0.046698  0.067616  0.193216 -0.121475  0.101389   \n",
       "chol     -0.151040 -0.009940  0.067023  0.053952 -0.004038  0.070511   \n",
       "fbs      -0.084189 -0.008567  0.025665  0.005747 -0.059894  0.137979   \n",
       "restecg   1.000000  0.044123 -0.070733 -0.058770  0.093045 -0.072042   \n",
       "thalach   0.044123  1.000000 -0.378812 -0.344187  0.386784 -0.213177   \n",
       "exang    -0.070733 -0.378812  1.000000  0.288223 -0.257748  0.115739   \n",
       "oldpeak  -0.058770 -0.344187  0.288223  1.000000 -0.577537  0.222682   \n",
       "slope     0.093045  0.386784 -0.257748 -0.577537  1.000000 -0.080155   \n",
       "ca       -0.072042 -0.213177  0.115739  0.222682 -0.080155  1.000000   \n",
       "thal     -0.011981 -0.096439  0.206754  0.210244 -0.104764  0.151832   \n",
       "target    0.137230  0.421741 -0.436757 -0.430696  0.345877 -0.391724   \n",
       "\n",
       "              thal    target  \n",
       "age       0.068001 -0.225439  \n",
       "sex       0.210041 -0.280937  \n",
       "cp       -0.161736  0.433798  \n",
       "trestbps  0.062210 -0.144931  \n",
       "chol      0.098803 -0.085239  \n",
       "fbs      -0.032019 -0.028046  \n",
       "restecg  -0.011981  0.137230  \n",
       "thalach  -0.096439  0.421741  \n",
       "exang     0.206754 -0.436757  \n",
       "oldpeak   0.210244 -0.430696  \n",
       "slope    -0.104764  0.345877  \n",
       "ca        0.151832 -0.391724  \n",
       "thal      1.000000 -0.344029  \n",
       "target   -0.344029  1.000000  "
      ]
     },
     "execution_count": 6,
     "metadata": {},
     "output_type": "execute_result"
    }
   ],
   "source": [
    "corr = df.corr()\n",
    "df.corr()# Compute the correlation matrix"
   ]
  },
  {
   "cell_type": "markdown",
   "metadata": {},
   "source": [
    "## Visualisation"
   ]
  },
  {
   "cell_type": "code",
   "execution_count": 7,
   "metadata": {},
   "outputs": [
    {
     "name": "stdout",
     "output_type": "stream",
     "text": [
      "SOME COLUMNS MAY BE IRRELAVANT\n"
     ]
    },
    {
     "data": {
      "text/plain": [
       "<matplotlib.axes._subplots.AxesSubplot at 0x1e4d6bb4b48>"
      ]
     },
     "execution_count": 7,
     "metadata": {},
     "output_type": "execute_result"
    },
    {
     "data": {
      "image/png": "[encoded data removed]",
      "text/plain": [
       "<Figure size 792x648 with 2 Axes>"
      ]
     },
     "metadata": {
      "needs_background": "light"
     },
     "output_type": "display_data"
    }
   ],
   "source": [
    "# Generate a mask for the upper triangle\n",
    "mask = np.triu(np.ones_like(corr, dtype=np.bool))\n",
    "\n",
    "# Set up the matplotlib figure\n",
    "f, ax = plt.subplots(figsize=(11, 9))\n",
    "\n",
    "# Generate a custom diverging colormap\n",
    "cmap = sns.diverging_palette(220, 10, as_cmap=True)\n",
    "\n",
    "print('SOME COLUMNS MAY BE IRRELAVANT')\n",
    "# Draw the heatmap with the mask and correct aspect ratio\n",
    "sns.heatmap(corr, mask=mask, cmap=cmap, vmax=.3, center=0,\n",
    "            square=True, linewidths=.5, cbar_kws={\"shrink\": .5})"
   ]
  },
  {
   "cell_type": "markdown",
   "metadata": {},
   "source": [
    "### Gender Bias"
   ]
  },
  {
   "cell_type": "code",
   "execution_count": 8,
   "metadata": {},
   "outputs": [
    {
     "data": {
      "image/png": "[encoded data removed]",
      "text/plain": [
       "<Figure size 432x288 with 1 Axes>"
      ]
     },
     "metadata": {
      "needs_background": "light"
     },
     "output_type": "display_data"
    },
    {
     "data": {
      "image/png": "[encoded data removed]",
      "text/plain": [
       "<Figure size 432x288 with 1 Axes>"
      ]
     },
     "metadata": {
      "needs_background": "light"
     },
     "output_type": "display_data"
    }
   ],
   "source": [
    "gen = df['sex'].where(df['target'] == 1).value_counts().to_frame().transpose() # Total 138\n",
    "gen.columns = ['Male','Female']\n",
    "a = gen.plot(kind = 'bar')\n",
    "plt.xlabel('Gender')\n",
    "plt.ylabel('Number of Patients')\n",
    "plt.title('GENDER')\n",
    "plt.show(a)\n",
    "age = df['age'].where(df['target'] == 1).value_counts().to_frame()\n",
    "age = age.reset_index()\n",
    "b = plt.scatter(y = 'age',x = 'index' ,data = age)\n",
    "plt.ylabel('Number of Patients')\n",
    "plt.xlabel('Age')\n",
    "plt.title('Age Bias')\n",
    "plt.show(b)"
   ]
  },
  {
   "cell_type": "code",
   "execution_count": 9,
   "metadata": {},
   "outputs": [
    {
     "name": "stdout",
     "output_type": "stream",
     "text": [
      "PEOPLE WHO SUFFER AN ATTACK\n",
      "    non-anginal pain  atypical angina  typical angina  asymptomatic\n",
      "cp                69               41              39            16\n",
      "PEOPLE WHO WERE SURVEYED\n",
      "    typical angina  non-anginal pain  atypical angina  asymptomatic\n",
      "cp             143                87               50            23\n"
     ]
    },
    {
     "data": {
      "image/png": "[encoded data removed]",
      "text/plain": [
       "<Figure size 1440x432 with 2 Axes>"
      ]
     },
     "metadata": {
      "needs_background": "light"
     },
     "output_type": "display_data"
    }
   ],
   "source": [
    "#cp - chest pain type (4 values)(1 = typical angina; 2 = atypical angina; 3 = non-anginal pain; 4 = asymptomatic)\n",
    "fig,axs = plt.subplots(1,2,figsize = (20,6))\n",
    "cp_dat = df['cp'].where(df['target'] == 1).value_counts().to_frame().transpose()\n",
    "cp_dat_total = df['cp'].value_counts().to_frame().transpose()\n",
    "cp_dat.rename(columns = {0:'typical angina', 1:'atypical angina', 2:'non-anginal pain', 3:'asymptomatic'},inplace = True)\n",
    "cp_dat_total.rename(columns = {0:'typical angina', 1:'atypical angina', 2:'non-anginal pain', 3:'asymptomatic'},inplace = True)\n",
    "cp_dat.plot(kind = 'bar',ax = axs[0],color = ['blue','orange','green','red'])\n",
    "print('PEOPLE WHO SUFFER AN ATTACK')\n",
    "print(cp_dat)\n",
    "cp_dat_total.plot(kind = 'bar',ax = axs[1],color = ['green','blue','orange','red'])\n",
    "print('PEOPLE WHO WERE SURVEYED')\n",
    "print(cp_dat_total)"
   ]
  },
  {
   "cell_type": "code",
   "execution_count": 10,
   "metadata": {},
   "outputs": [
    {
     "data": {
      "image/png": "[encoded data removed]",
      "text/plain": [
       "<Figure size 432x288 with 1 Axes>"
      ]
     },
     "metadata": {
      "needs_background": "light"
     },
     "output_type": "display_data"
    }
   ],
   "source": [
    "bpdat = df['trestbps'].where(df['target'] == 1).value_counts().to_frame()\n",
    "bpdat = bpdat.reset_index()\n",
    "c = plt.scatter(y = 'trestbps',x = 'index' ,data = bpdat)\n",
    "plt.ylabel('Number of Patients')\n",
    "plt.xlabel('At Rest Blood Pressure')\n",
    "plt.title('WRT TO BLOOD PRESSURE AT REST (mm Hg)')\n",
    "plt.show(c)"
   ]
  },
  {
   "cell_type": "code",
   "execution_count": 11,
   "metadata": {
    "scrolled": true
   },
   "outputs": [
    {
     "data": {
      "image/png": "[encoded data removed]",
      "text/plain": [
       "<Figure size 432x288 with 1 Axes>"
      ]
     },
     "metadata": {
      "needs_background": "light"
     },
     "output_type": "display_data"
    }
   ],
   "source": [
    "choldat = df['chol'].where(df['target'] == 1).value_counts().to_frame()\n",
    "choldat = choldat.reset_index()\n",
    "d = plt.scatter(y = 'chol',x = 'index' ,data = choldat)\n",
    "plt.ylabel('Number of Patients')\n",
    "plt.xlabel('Cholestrol Level in mg/dl')\n",
    "plt.title('WRT Serum Cholestoral')\n",
    "plt.show(d)"
   ]
  },
  {
   "cell_type": "code",
   "execution_count": 12,
   "metadata": {},
   "outputs": [
    {
     "data": {
      "image/png": "[encoded data removed]",
      "text/plain": [
       "<Figure size 432x288 with 1 Axes>"
      ]
     },
     "metadata": {
      "needs_background": "light"
     },
     "output_type": "display_data"
    }
   ],
   "source": [
    "fbsdat = df['sex'].where(df['target'] == 1).value_counts().to_frame().transpose() # Total 138\n",
    "fbsdat.columns = ['>120 mg/dl','<120 mg/dl']\n",
    "e = fbsdat.plot(kind = 'bar')\n",
    "plt.xlabel('Fasting Blood Sugar')\n",
    "plt.ylabel('Number of Patients')\n",
    "plt.title('Fasting Blood Sugar(in mg/dl)')\n",
    "plt.show(e)"
   ]
  },
  {
   "cell_type": "code",
   "execution_count": 13,
   "metadata": {},
   "outputs": [
    {
     "data": {
      "image/png": "[encoded data removed]",
      "text/plain": [
       "<Figure size 432x288 with 1 Axes>"
      ]
     },
     "metadata": {
      "needs_background": "light"
     },
     "output_type": "display_data"
    }
   ],
   "source": [
    "exangdat = df['exang'].where(df['target'] == 1).value_counts().to_frame().transpose() # Total 138\n",
    "exangdat.columns = ['Yes','No']\n",
    "f = exangdat.plot(kind = 'bar')\n",
    "plt.xlabel('Excercise Induced Angina')\n",
    "plt.ylabel('Number of Patients')\n",
    "plt.title('Excercise Induced Angina(Yes or No)')\n",
    "plt.show(f)"
   ]
  },
  {
   "cell_type": "code",
   "execution_count": 14,
   "metadata": {},
   "outputs": [
    {
     "data": {
      "image/png": "[encoded data removed]",
      "text/plain": [
       "<Figure size 432x288 with 1 Axes>"
      ]
     },
     "metadata": {
      "needs_background": "light"
     },
     "output_type": "display_data"
    }
   ],
   "source": [
    "hrdat = df['thalach'].where(df['target'] == 1).value_counts().to_frame()\n",
    "hrdat = hrdat.reset_index()\n",
    "g = plt.scatter(y = 'thalach',x = 'index' ,data = hrdat)\n",
    "plt.ylabel('Number of Patients')\n",
    "plt.xlabel('Maximum Heart Rate Achieved')\n",
    "plt.title('WRT Maximum Heart Rate Achieved')\n",
    "plt.show(g)"
   ]
  },
  {
   "cell_type": "code",
   "execution_count": 15,
   "metadata": {},
   "outputs": [
    {
     "name": "stdout",
     "output_type": "stream",
     "text": [
      "PEOPLE WHO SUFFER AN ATTACK\n",
      "         having ST-T  normal  hypertrophy\n",
      "restecg           96      68            1\n",
      "PEOPLE WHO WERE SURVEYED\n",
      "         having ST-T  normal  hypertrophy\n",
      "restecg          152     147            4\n"
     ]
    },
    {
     "data": {
      "image/png": "[encoded data removed]",
      "text/plain": [
       "<Figure size 1440x432 with 2 Axes>"
      ]
     },
     "metadata": {
      "needs_background": "light"
     },
     "output_type": "display_data"
    }
   ],
   "source": [
    "#restecg - resting electrocardiographic results (values 0,1,2)(0 = normal; 1 = having ST-T; 2 = hypertrophy)\n",
    "fig,axs = plt.subplots(1,2,figsize = (20,6))\n",
    "ecg_dat = df['restecg'].where(df['target'] == 1).value_counts().to_frame().transpose()\n",
    "ecg_dat_total = df['restecg'].value_counts().to_frame().transpose()\n",
    "ecg_dat.rename(columns = {0:'normal', 1:'having ST-T', 2:'hypertrophy'},inplace = True)\n",
    "ecg_dat_total.rename(columns = {0:'normal', 1:'having ST-T', 2:'hypertrophy'},inplace = True)\n",
    "ecg_dat.plot(kind = 'bar',ax = axs[0])\n",
    "print('PEOPLE WHO SUFFER AN ATTACK')\n",
    "print(ecg_dat)\n",
    "ecg_dat_total.plot(kind = 'bar',ax = axs[1])\n",
    "print('PEOPLE WHO WERE SURVEYED')\n",
    "print(ecg_dat_total)"
   ]
  },
  {
   "cell_type": "code",
   "execution_count": 16,
   "metadata": {},
   "outputs": [
    {
     "data": {
      "image/png": "[encoded data removed]",
      "text/plain": [
       "<Figure size 432x288 with 1 Axes>"
      ]
     },
     "metadata": {
      "needs_background": "light"
     },
     "output_type": "display_data"
    }
   ],
   "source": [
    "opdat = df['oldpeak'].where(df['target'] == 1).value_counts().to_frame()\n",
    "opdat = opdat.reset_index()\n",
    "h = plt.scatter(y = 'oldpeak',x = 'index' ,data = opdat)\n",
    "plt.ylabel('Number of Patients')\n",
    "plt.xlabel('Old Peak')\n",
    "plt.title('ST depression induced by exercise relative to rest')\n",
    "plt.show(h)"
   ]
  },
  {
   "cell_type": "code",
   "execution_count": 17,
   "metadata": {},
   "outputs": [
    {
     "name": "stdout",
     "output_type": "stream",
     "text": [
      "PEOPLE WHO SUFFER AN ATTACK\n",
      "       downsloping  flat  upsloping\n",
      "slope          107    49          9\n",
      "PEOPLE WHO WERE SURVEYED\n",
      "       downsloping  flat  upsloping\n",
      "slope          142   140         21\n"
     ]
    },
    {
     "data": {
      "image/png": "[encoded data removed]",
      "text/plain": [
       "<Figure size 1440x432 with 2 Axes>"
      ]
     },
     "metadata": {
      "needs_background": "light"
     },
     "output_type": "display_data"
    }
   ],
   "source": [
    "#slope - the slope of the peak exercise ST segment(1 = upsloping; 2 = flat; 3 = downsloping)\n",
    "fig,axs = plt.subplots(1,2,figsize = (20,6))\n",
    "slope_dat = df['slope'].where(df['target'] == 1).value_counts().to_frame().transpose()\n",
    "slope_dat_total = df['slope'].value_counts().to_frame().transpose()\n",
    "slope_dat.rename(columns = {0:'upsloping', 1:'flat', 2:'downsloping'},inplace = True)\n",
    "slope_dat_total.rename(columns = {0:'upsloping', 1:'flat', 2:'downsloping'},inplace = True)\n",
    "slope_dat.plot(kind = 'bar',ax = axs[0])\n",
    "print('PEOPLE WHO SUFFER AN ATTACK')\n",
    "print(slope_dat)\n",
    "slope_dat_total.plot(kind = 'bar',ax = axs[1])\n",
    "print('PEOPLE WHO WERE SURVEYED')\n",
    "print(slope_dat_total)"
   ]
  },
  {
   "cell_type": "code",
   "execution_count": 48,
   "metadata": {},
   "outputs": [
    {
     "name": "stdout",
     "output_type": "stream",
     "text": [
      "PEOPLE WHO SUFFER AN ATTACK\n",
      "    One  Two  Three  Five  Four\n",
      "ca  130   21      7     4     3\n",
      "PEOPLE WHO WERE SURVEYED\n",
      "    One  Two  Three  Four  Five\n",
      "ca  175   65     38    20     5\n"
     ]
    },
    {
     "data": {
      "image/png": "[encoded data removed]",
      "text/plain": [
       "<Figure size 1440x432 with 2 Axes>"
      ]
     },
     "metadata": {
      "needs_background": "light"
     },
     "output_type": "display_data"
    }
   ],
   "source": [
    "#ca - number of major vessels (0-3) colored by flourosopy\n",
    "fig,axs = plt.subplots(1,2,figsize = (20,6))\n",
    "ca_dat = df['ca'].where(df['target'] == 1).value_counts().to_frame().transpose()\n",
    "ca_dat_total = df['ca'].value_counts().to_frame().transpose()\n",
    "ca_dat.rename(columns = {0:'One', 1:'Two', 2:'Three',3:'Four',4:'Five'},inplace = True)\n",
    "ca_dat_total.rename(columns = {0:'One', 1:'Two', 2:'Three',3:'Four',4:'Five'},inplace = True)\n",
    "ca_dat.plot(kind = 'bar',ax = axs[0],color = ['blue','Orange','Green','Red','purple'])\n",
    "print('PEOPLE WHO SUFFER AN ATTACK')\n",
    "print(ca_dat)\n",
    "ca_dat_total.plot(kind = 'bar',ax = axs[1],color = ['blue','Orange','Green','purple','Red'])\n",
    "print('PEOPLE WHO WERE SURVEYED')\n",
    "print(ca_dat_total)"
   ]
  },
  {
   "cell_type": "markdown",
   "metadata": {},
   "source": [
    "### Algorithm (MultiVariate Logistic Regression)"
   ]
  },
  {
   "cell_type": "code",
   "execution_count": 81,
   "metadata": {},
   "outputs": [
    {
     "name": "stdout",
     "output_type": "stream",
     "text": [
      "Train set: (242, 13) (242,)\n",
      "Test set: (61, 13) (61,)\n"
     ]
    }
   ],
   "source": [
    "X = np.asarray(df[['age', 'sex', 'cp', 'trestbps', 'chol', 'fbs', 'restecg','thalach','exang','oldpeak','slope','ca','thal']])\n",
    "y = np.asarray(df['target'])\n",
    "from sklearn.model_selection import train_test_split\n",
    "X_train, X_test, y_train, y_test = train_test_split( X, y, test_size=0.2, random_state=4)\n",
    "print ('Train set:', X_train.shape,  y_train.shape)\n",
    "print ('Test set:', X_test.shape,  y_test.shape)"
   ]
  },
  {
   "cell_type": "code",
   "execution_count": 82,
   "metadata": {},
   "outputs": [],
   "source": [
    "from sklearn.linear_model import LogisticRegression\n",
    "from sklearn.metrics import confusion_matrix\n",
    "LR = LogisticRegression(C = 0.5, solver='newton-cg').fit(X_train,y_train)"
   ]
  },
  {
   "cell_type": "code",
   "execution_count": 83,
   "metadata": {
    "collapsed": true
   },
   "outputs": [
    {
     "name": "stdout",
     "output_type": "stream",
     "text": [
      "[1 0 1 1 1 0 0 1 1 1 1 1 1 0 1 0 1 1 0 1 1 1 0 1 1 0 0 1 1 0 0 1 1 1 1 1 1\n",
      " 1 1 0 0 0 0 1 1 1 0 0 0 1 0 1 0 1 1 1 1 1 0 0 1]\n",
      "[[0.26268722 0.73731278]\n",
      " [0.93211157 0.06788843]\n",
      " [0.4686945  0.5313055 ]\n",
      " [0.02018532 0.97981468]\n",
      " [0.2031403  0.7968597 ]\n",
      " [0.61089151 0.38910849]\n",
      " [0.7838711  0.2161289 ]\n",
      " [0.05965964 0.94034036]\n",
      " [0.27080555 0.72919445]\n",
      " [0.17132245 0.82867755]\n",
      " [0.26426571 0.73573429]\n",
      " [0.03227877 0.96772123]\n",
      " [0.27317776 0.72682224]\n",
      " [0.66444504 0.33555496]\n",
      " [0.16582738 0.83417262]\n",
      " [0.99222586 0.00777414]\n",
      " [0.11666519 0.88333481]\n",
      " [0.11243536 0.88756464]\n",
      " [0.86114682 0.13885318]\n",
      " [0.41131466 0.58868534]\n",
      " [0.07499784 0.92500216]\n",
      " [0.30624503 0.69375497]\n",
      " [0.97736149 0.02263851]\n",
      " [0.35793305 0.64206695]\n",
      " [0.31485463 0.68514537]\n",
      " [0.94423085 0.05576915]\n",
      " [0.59894029 0.40105971]\n",
      " [0.03950053 0.96049947]\n",
      " [0.48151047 0.51848953]\n",
      " [0.98055326 0.01944674]\n",
      " [0.74768474 0.25231526]\n",
      " [0.45044345 0.54955655]\n",
      " [0.01888459 0.98111541]\n",
      " [0.18591582 0.81408418]\n",
      " [0.31348129 0.68651871]\n",
      " [0.0461336  0.9538664 ]\n",
      " [0.07689927 0.92310073]\n",
      " [0.29576694 0.70423306]\n",
      " [0.48593219 0.51406781]\n",
      " [0.98991293 0.01008707]\n",
      " [0.98880822 0.01119178]\n",
      " [0.87754169 0.12245831]\n",
      " [0.90921276 0.09078724]\n",
      " [0.28014847 0.71985153]\n",
      " [0.08368978 0.91631022]\n",
      " [0.25884018 0.74115982]\n",
      " [0.9433531  0.0566469 ]\n",
      " [0.61838377 0.38161623]\n",
      " [0.89174587 0.10825413]\n",
      " [0.10359612 0.89640388]\n",
      " [0.9578365  0.0421635 ]\n",
      " [0.47270711 0.52729289]\n",
      " [0.92365782 0.07634218]\n",
      " [0.47084015 0.52915985]\n",
      " [0.14909011 0.85090989]\n",
      " [0.00644656 0.99355344]\n",
      " [0.09146173 0.90853827]\n",
      " [0.09506343 0.90493657]\n",
      " [0.99786669 0.00213331]\n",
      " [0.93896688 0.06103312]\n",
      " [0.03651572 0.96348428]]\n"
     ]
    }
   ],
   "source": [
    "yhat = LR.predict(X_test)\n",
    "print(yhat)\n",
    "yhat_prob = LR.predict_proba(X_test)\n",
    "print(yhat_prob)"
   ]
  },
  {
   "cell_type": "code",
   "execution_count": 84,
   "metadata": {},
   "outputs": [
    {
     "name": "stdout",
     "output_type": "stream",
     "text": [
      "The Log Loss is: 0.3048078522156877\n",
      "Jaccard Similarity Score is : 0.875\n",
      "F1 Score is : 0.9333333333333333\n"
     ]
    }
   ],
   "source": [
    "from sklearn.metrics import jaccard_score\n",
    "from sklearn.metrics import f1_score\n",
    "from sklearn.metrics import log_loss\n",
    "print('The Log Loss is: ' + str(log_loss(y_test, yhat_prob)))\n",
    "print('Jaccard Similarity Score is : ' + str(jaccard_score(y_test, yhat)))\n",
    "print('F1 Score is : ' + str(f1_score(y_test,yhat)))"
   ]
  },
  {
   "cell_type": "code",
   "execution_count": 85,
   "metadata": {},
   "outputs": [
    {
     "data": {
      "text/plain": [
       "<sklearn.metrics._plot.confusion_matrix.ConfusionMatrixDisplay at 0x1e4d8131a48>"
      ]
     },
     "execution_count": 85,
     "metadata": {},
     "output_type": "execute_result"
    },
    {
     "data": {
      "image/png": "[encoded data removed]",
      "text/plain": [
       "<Figure size 432x288 with 2 Axes>"
      ]
     },
     "metadata": {
      "needs_background": "light"
     },
     "output_type": "display_data"
    }
   ],
   "source": [
    "from sklearn.metrics import plot_confusion_matrix\n",
    "plot_confusion_matrix(LR, X_test, y_test)"
   ]
  },
  {
   "cell_type": "code",
   "execution_count": 95,
   "metadata": {},
   "outputs": [
    {
     "name": "stdout",
     "output_type": "stream",
     "text": [
      "              precision    recall  f1-score   support\n",
      "\n",
      "           0       0.95      0.84      0.89        25\n",
      "           1       0.90      0.97      0.93        36\n",
      "\n",
      "    accuracy                           0.92        61\n",
      "   macro avg       0.93      0.91      0.91        61\n",
      "weighted avg       0.92      0.92      0.92        61\n",
      "\n"
     ]
    }
   ],
   "source": [
    "from sklearn.metrics import classification_report\n",
    "print(classification_report(y_test, yhat))"
   ]
  }
 ],
 "metadata": {
  "kernelspec": {
   "display_name": "Python 3",
   "language": "python",
   "name": "python3"
  },
  "language_info": {
   "codemirror_mode": {
    "name": "ipython",
    "version": 3
   },
   "file_extension": ".py",
   "mimetype": "text/x-python",
   "name": "python",
   "nbconvert_exporter": "python",
   "pygments_lexer": "ipython3",
   "version": "3.7.7"
  }
 },
 "nbformat": 4,
 "nbformat_minor": 4
}
