{
 "cells": [
  {
   "cell_type": "code",
   "execution_count": 1,
   "metadata": {
    "execution": {
     "iopub.execute_input": "2021-01-10T09:22:14.745923Z",
     "iopub.status.busy": "2021-01-10T09:22:14.745362Z",
     "iopub.status.idle": "2021-01-10T09:22:19.571788Z",
     "shell.execute_reply": "2021-01-10T09:22:19.570799Z"
    },
    "id": "fVSWq59e-VSI",
    "outputId": "4d985eb9-058c-4485-ead8-0d8f45d3355d",
    "papermill": {
     "duration": 4.844715,
     "end_time": "2021-01-10T09:22:19.571908",
     "exception": false,
     "start_time": "2021-01-10T09:22:14.727193",
     "status": "completed"
    },
    "tags": []
   },
   "outputs": [],
   "source": [
    "import tensorflow as tf\n",
    "from tensorflow import keras\n",
    "import matplotlib.pyplot as plt\n",
    "from keras.utils import to_categorical\n",
    "import pandas as pd\n",
    "import numpy as np\n",
    "%matplotlib inline"
   ]
  },
  {
   "cell_type": "code",
   "execution_count": 2,
   "metadata": {
    "execution": {
     "iopub.execute_input": "2021-01-10T09:22:19.600211Z",
     "iopub.status.busy": "2021-01-10T09:22:19.599433Z",
     "iopub.status.idle": "2021-01-10T09:22:20.262618Z",
     "shell.execute_reply": "2021-01-10T09:22:20.260917Z"
    },
    "id": "qtTYRozJ-m7S",
    "outputId": "81aef951-f3c9-4074-db3f-dc7ba7237b03",
    "papermill": {
     "duration": 0.678754,
     "end_time": "2021-01-10T09:22:20.263000",
     "exception": false,
     "start_time": "2021-01-10T09:22:19.584246",
     "status": "completed"
    },
    "tags": []
   },
   "outputs": [
    {
     "name": "stdout",
     "output_type": "stream",
     "text": [
      "Downloading data from https://storage.googleapis.com/tensorflow/tf-keras-datasets/mnist.npz\n",
      "11493376/11490434 [==============================] - 0s 0us/step\n"
     ]
    }
   ],
   "source": [
    "from keras.datasets import mnist\n",
    "(X_train, y_train), (X_test, y_test) = mnist.load_data()"
   ]
  },
  {
   "cell_type": "code",
   "execution_count": 3,
   "metadata": {
    "execution": {
     "iopub.execute_input": "2021-01-10T09:22:20.319687Z",
     "iopub.status.busy": "2021-01-10T09:22:20.318777Z",
     "iopub.status.idle": "2021-01-10T09:22:21.852548Z",
     "shell.execute_reply": "2021-01-10T09:22:21.853766Z"
    },
    "id": "QHl7eR7LGNK1",
    "outputId": "c8a70d9c-51ea-4fa4-92e0-3c7f09326bba",
    "papermill": {
     "duration": 1.564114,
     "end_time": "2021-01-10T09:22:21.853962",
     "exception": false,
     "start_time": "2021-01-10T09:22:20.289848",
     "status": "completed"
    },
    "tags": []
   },
   "outputs": [
    {
     "data": {
      "image/png": "[encoded data removed]",
      "text/plain": [
       "<Figure size 432x288 with 9 Axes>"
      ]
     },
     "metadata": {
      "needs_background": "light"
     },
     "output_type": "display_data"
    }
   ],
   "source": [
    "# plot first few images\n",
    "for i in range(9):\n",
    "    plt.subplot(330 + 1 + i)\n",
    "    plt.imshow(X_train[i], cmap=plt.get_cmap('gray'))"
   ]
  },
  {
   "cell_type": "code",
   "execution_count": 4,
   "metadata": {
    "execution": {
     "iopub.execute_input": "2021-01-10T09:22:21.921144Z",
     "iopub.status.busy": "2021-01-10T09:22:21.920219Z",
     "iopub.status.idle": "2021-01-10T09:22:21.923954Z",
     "shell.execute_reply": "2021-01-10T09:22:21.921939Z"
    },
    "id": "i8PsbCwm-2_h",
    "outputId": "78b1d153-756e-4f2d-cfb0-3e8a37da01bd",
    "papermill": {
     "duration": 0.042874,
     "end_time": "2021-01-10T09:22:21.924078",
     "exception": false,
     "start_time": "2021-01-10T09:22:21.881204",
     "status": "completed"
    },
    "tags": []
   },
   "outputs": [
    {
     "name": "stdout",
     "output_type": "stream",
     "text": [
      "(60000, 28, 28) (10000, 28, 28) (60000,) (10000,)\n"
     ]
    }
   ],
   "source": [
    "print(X_train.shape,X_test.shape,y_train.shape,y_test.shape)"
   ]
  },
  {
   "cell_type": "code",
   "execution_count": 5,
   "metadata": {
    "execution": {
     "iopub.execute_input": "2021-01-10T09:22:21.980309Z",
     "iopub.status.busy": "2021-01-10T09:22:21.979467Z",
     "iopub.status.idle": "2021-01-10T09:22:22.144965Z",
     "shell.execute_reply": "2021-01-10T09:22:22.145749Z"
    },
    "id": "Q4o8NvEsRKO3",
    "papermill": {
     "duration": 0.195598,
     "end_time": "2021-01-10T09:22:22.145927",
     "exception": false,
     "start_time": "2021-01-10T09:22:21.950329",
     "status": "completed"
    },
    "tags": []
   },
   "outputs": [],
   "source": [
    "X_train = X_train/255\n",
    "X_test = X_test/255"
   ]
  },
  {
   "cell_type": "code",
   "execution_count": 6,
   "metadata": {
    "execution": {
     "iopub.execute_input": "2021-01-10T09:22:22.201640Z",
     "iopub.status.busy": "2021-01-10T09:22:22.200868Z",
     "iopub.status.idle": "2021-01-10T09:22:22.205644Z",
     "shell.execute_reply": "2021-01-10T09:22:22.206635Z"
    },
    "id": "-5dsUG-Kp1na",
    "papermill": {
     "duration": 0.036176,
     "end_time": "2021-01-10T09:22:22.206806",
     "exception": false,
     "start_time": "2021-01-10T09:22:22.170630",
     "status": "completed"
    },
    "tags": []
   },
   "outputs": [],
   "source": [
    "X_train = X_train.reshape(-1,28,28,1)"
   ]
  },
  {
   "cell_type": "code",
   "execution_count": 7,
   "metadata": {
    "execution": {
     "iopub.execute_input": "2021-01-10T09:22:22.267654Z",
     "iopub.status.busy": "2021-01-10T09:22:22.266678Z",
     "iopub.status.idle": "2021-01-10T09:22:24.698926Z",
     "shell.execute_reply": "2021-01-10T09:22:24.698368Z"
    },
    "id": "738pfW_0_Z9M",
    "papermill": {
     "duration": 2.466754,
     "end_time": "2021-01-10T09:22:24.699028",
     "exception": false,
     "start_time": "2021-01-10T09:22:22.232274",
     "status": "completed"
    },
    "tags": []
   },
   "outputs": [],
   "source": [
    "model = tf.keras.Sequential()"
   ]
  },
  {
   "cell_type": "code",
   "execution_count": 8,
   "metadata": {
    "execution": {
     "iopub.execute_input": "2021-01-10T09:22:24.743118Z",
     "iopub.status.busy": "2021-01-10T09:22:24.742484Z",
     "iopub.status.idle": "2021-01-10T09:22:24.843626Z",
     "shell.execute_reply": "2021-01-10T09:22:24.843212Z"
    },
    "id": "LnP0NShF_in9",
    "outputId": "1b656223-6e34-45ad-ca07-4a719c8d7bf2",
    "papermill": {
     "duration": 0.129514,
     "end_time": "2021-01-10T09:22:24.843730",
     "exception": false,
     "start_time": "2021-01-10T09:22:24.714216",
     "status": "completed"
    },
    "tags": []
   },
   "outputs": [
    {
     "name": "stdout",
     "output_type": "stream",
     "text": [
      "Model: \"sequential\"\n",
      "_________________________________________________________________\n",
      "Layer (type)                 Output Shape              Param #   \n",
      "=================================================================\n",
      "conv2d (Conv2D)              (None, 26, 26, 16)        160       \n",
      "_________________________________________________________________\n",
      "max_pooling2d (MaxPooling2D) (None, 13, 13, 16)        0         \n",
      "_________________________________________________________________\n",
      "conv2d_1 (Conv2D)            (None, 11, 11, 32)        4640      \n",
      "_________________________________________________________________\n",
      "max_pooling2d_1 (MaxPooling2 (None, 5, 5, 32)          0         \n",
      "_________________________________________________________________\n",
      "flatten (Flatten)            (None, 800)               0         \n",
      "_________________________________________________________________\n",
      "dense (Dense)                (None, 128)               102528    \n",
      "_________________________________________________________________\n",
      "dropout (Dropout)            (None, 128)               0         \n",
      "_________________________________________________________________\n",
      "dense_1 (Dense)              (None, 10)                1290      \n",
      "=================================================================\n",
      "Total params: 108,618\n",
      "Trainable params: 108,618\n",
      "Non-trainable params: 0\n",
      "_________________________________________________________________\n"
     ]
    }
   ],
   "source": [
    "model.add(tf.keras.layers.Conv2D(16,(3,3),activation='relu',input_shape = (28,28,1)))\n",
    "model.add(tf.keras.layers.MaxPooling2D(2,2))\n",
    "model.add(tf.keras.layers.Conv2D(32,(3,3),activation='relu'))\n",
    "model.add(tf.keras.layers.MaxPooling2D(2,2))\n",
    "model.add(tf.keras.layers.Flatten())\n",
    "model.add(tf.keras.layers.Dense(128,activation='relu'))\n",
    "model.add(tf.keras.layers.Dropout(0.2))\n",
    "model.add(tf.keras.layers.Dense(10,activation='softmax'))\n",
    "model.compile(optimizer = 'adam', loss='sparse_categorical_crossentropy', metrics=['sparse_categorical_accuracy'])\n",
    "model.summary()"
   ]
  },
  {
   "cell_type": "code",
   "execution_count": 9,
   "metadata": {
    "execution": {
     "iopub.execute_input": "2021-01-10T09:22:24.879395Z",
     "iopub.status.busy": "2021-01-10T09:22:24.878886Z",
     "iopub.status.idle": "2021-01-10T09:22:47.876149Z",
     "shell.execute_reply": "2021-01-10T09:22:47.875664Z"
    },
    "id": "KF22U6_tBZnJ",
    "outputId": "e21f065c-8a80-4e6b-f3f4-a7def946cec6",
    "papermill": {
     "duration": 23.016609,
     "end_time": "2021-01-10T09:22:47.876256",
     "exception": false,
     "start_time": "2021-01-10T09:22:24.859647",
     "status": "completed"
    },
    "tags": []
   },
   "outputs": [
    {
     "name": "stdout",
     "output_type": "stream",
     "text": [
      "Epoch 1/5\n",
      "1500/1500 [==============================] - 4s 3ms/step - loss: 0.1914 - sparse_categorical_accuracy: 0.9421 - val_loss: 0.0626 - val_sparse_categorical_accuracy: 0.9823\n",
      "Epoch 2/5\n",
      "1500/1500 [==============================] - 4s 3ms/step - loss: 0.0640 - sparse_categorical_accuracy: 0.9799 - val_loss: 0.0537 - val_sparse_categorical_accuracy: 0.9850\n",
      "Epoch 3/5\n",
      "1500/1500 [==============================] - 4s 3ms/step - loss: 0.0464 - sparse_categorical_accuracy: 0.9851 - val_loss: 0.0427 - val_sparse_categorical_accuracy: 0.9869\n",
      "Epoch 4/5\n",
      "1500/1500 [==============================] - 4s 3ms/step - loss: 0.0351 - sparse_categorical_accuracy: 0.9886 - val_loss: 0.0476 - val_sparse_categorical_accuracy: 0.9866\n",
      "Epoch 5/5\n",
      "1500/1500 [==============================] - 4s 2ms/step - loss: 0.0297 - sparse_categorical_accuracy: 0.9905 - val_loss: 0.0393 - val_sparse_categorical_accuracy: 0.9884\n"
     ]
    }
   ],
   "source": [
    "history = model.fit(X_train, y_train,validation_split=0.2,epochs = 5)"
   ]
  },
  {
   "cell_type": "code",
   "execution_count": 10,
   "metadata": {
    "execution": {
     "iopub.execute_input": "2021-01-10T09:22:48.093482Z",
     "iopub.status.busy": "2021-01-10T09:22:48.092961Z",
     "iopub.status.idle": "2021-01-10T09:22:48.097011Z",
     "shell.execute_reply": "2021-01-10T09:22:48.096578Z"
    },
    "id": "tDScMXvtqiFl",
    "papermill": {
     "duration": 0.112933,
     "end_time": "2021-01-10T09:22:48.097105",
     "exception": false,
     "start_time": "2021-01-10T09:22:47.984172",
     "status": "completed"
    },
    "tags": []
   },
   "outputs": [],
   "source": [
    "X_test = X_test.reshape(-1,28,28,1)"
   ]
  },
  {
   "cell_type": "code",
   "execution_count": 11,
   "metadata": {
    "execution": {
     "iopub.execute_input": "2021-01-10T09:22:48.323159Z",
     "iopub.status.busy": "2021-01-10T09:22:48.322086Z",
     "iopub.status.idle": "2021-01-10T09:22:49.156547Z",
     "shell.execute_reply": "2021-01-10T09:22:49.157179Z"
    },
    "id": "4x2gofXyBv5C",
    "papermill": {
     "duration": 0.954817,
     "end_time": "2021-01-10T09:22:49.157340",
     "exception": false,
     "start_time": "2021-01-10T09:22:48.202523",
     "status": "completed"
    },
    "tags": []
   },
   "outputs": [
    {
     "name": "stdout",
     "output_type": "stream",
     "text": [
      "313/313 [==============================] - 1s 2ms/step - loss: 0.0405 - sparse_categorical_accuracy: 0.9881\n",
      "Test loss is :0.04047531634569168\n",
      "Test accuracy is :0.988099992275238\n"
     ]
    }
   ],
   "source": [
    "test_loss, test_accuracy = model.evaluate(X_test,y_test)\n",
    "print('Test loss is :' + str(test_loss))\n",
    "print('Test accuracy is :' + str(test_accuracy))"
   ]
  },
  {
   "cell_type": "code",
   "execution_count": 12,
   "metadata": {
    "execution": {
     "iopub.execute_input": "2021-01-10T09:22:49.384715Z",
     "iopub.status.busy": "2021-01-10T09:22:49.384168Z",
     "iopub.status.idle": "2021-01-10T09:22:49.388922Z",
     "shell.execute_reply": "2021-01-10T09:22:49.388487Z"
    },
    "id": "AaINa7nvWcI3",
    "papermill": {
     "duration": 0.120307,
     "end_time": "2021-01-10T09:22:49.389017",
     "exception": false,
     "start_time": "2021-01-10T09:22:49.268710",
     "status": "completed"
    },
    "tags": []
   },
   "outputs": [
    {
     "name": "stdout",
     "output_type": "stream",
     "text": [
      "dict_keys(['loss', 'sparse_categorical_accuracy', 'val_loss', 'val_sparse_categorical_accuracy'])\n"
     ]
    }
   ],
   "source": [
    "print(history.history.keys())"
   ]
  },
  {
   "cell_type": "code",
   "execution_count": 13,
   "metadata": {
    "execution": {
     "iopub.execute_input": "2021-01-10T09:22:49.641177Z",
     "iopub.status.busy": "2021-01-10T09:22:49.633930Z",
     "iopub.status.idle": "2021-01-10T09:22:49.800110Z",
     "shell.execute_reply": "2021-01-10T09:22:49.800762Z"
    },
    "id": "Lg45NaL7SyKm",
    "papermill": {
     "duration": 0.292444,
     "end_time": "2021-01-10T09:22:49.800924",
     "exception": false,
     "start_time": "2021-01-10T09:22:49.508480",
     "status": "completed"
    },
    "tags": []
   },
   "outputs": [
    {
     "data": {
      "image/png": "[encoded data removed]",
      "text/plain": [
       "<Figure size 432x288 with 1 Axes>"
      ]
     },
     "metadata": {
      "needs_background": "light"
     },
     "output_type": "display_data"
    }
   ],
   "source": [
    "# summarize history for accuracy\n",
    "plt.plot(history.history['sparse_categorical_accuracy'])\n",
    "plt.title('model accuracy')\n",
    "plt.ylabel('accuracy')\n",
    "plt.xlabel('epoch')\n",
    "plt.legend(['train', 'test'], loc='upper left')\n",
    "plt.plot(history.history['val_sparse_categorical_accuracy'])\n",
    "plt.title('model accuracy')\n",
    "plt.ylabel('accuracy')\n",
    "plt.xlabel('epoch')\n",
    "plt.legend(['train', 'test'], loc='upper left')\n",
    "plt.show()"
   ]
  },
  {
   "cell_type": "code",
   "execution_count": 14,
   "metadata": {
    "execution": {
     "iopub.execute_input": "2021-01-10T09:22:50.046013Z",
     "iopub.status.busy": "2021-01-10T09:22:50.045076Z",
     "iopub.status.idle": "2021-01-10T09:22:50.203320Z",
     "shell.execute_reply": "2021-01-10T09:22:50.203812Z"
    },
    "id": "prDCTSwjUJBl",
    "papermill": {
     "duration": 0.283236,
     "end_time": "2021-01-10T09:22:50.203938",
     "exception": false,
     "start_time": "2021-01-10T09:22:49.920702",
     "status": "completed"
    },
    "tags": []
   },
   "outputs": [
    {
     "data": {
      "image/png": "[encoded data removed]",
      "text/plain": [
       "<Figure size 432x288 with 1 Axes>"
      ]
     },
     "metadata": {
      "needs_background": "light"
     },
     "output_type": "display_data"
    }
   ],
   "source": [
    "# summarize history for loss\n",
    "plt.plot(history.history['loss'])\n",
    "plt.title('model loss')\n",
    "plt.ylabel('loss')\n",
    "plt.xlabel('epoch')\n",
    "plt.legend(['train', 'test'], loc='upper left')\n",
    "plt.plot(history.history['val_loss'])\n",
    "plt.title('model loss')\n",
    "plt.ylabel('loss')\n",
    "plt.xlabel('epoch')\n",
    "plt.legend(['train', 'test'], loc='upper left')\n",
    "plt.show()"
   ]
  },
  {
   "cell_type": "code",
   "execution_count": 15,
   "metadata": {
    "execution": {
     "iopub.execute_input": "2021-01-10T09:22:50.467320Z",
     "iopub.status.busy": "2021-01-10T09:22:50.466297Z",
     "iopub.status.idle": "2021-01-10T09:22:50.497481Z",
     "shell.execute_reply": "2021-01-10T09:22:50.497024Z"
    },
    "papermill": {
     "duration": 0.169423,
     "end_time": "2021-01-10T09:22:50.497574",
     "exception": false,
     "start_time": "2021-01-10T09:22:50.328151",
     "status": "completed"
    },
    "tags": []
   },
   "outputs": [],
   "source": [
    "tf.keras.models.save_model(model,'digits.hdf5')"
   ]
  },
  {
   "cell_type": "code",
   "execution_count": 16,
   "metadata": {
    "execution": {
     "iopub.execute_input": "2021-01-10T09:22:50.731784Z",
     "iopub.status.busy": "2021-01-10T09:22:50.730337Z",
     "iopub.status.idle": "2021-01-10T09:22:50.732869Z",
     "shell.execute_reply": "2021-01-10T09:22:50.733333Z"
    },
    "papermill": {
     "duration": 0.121522,
     "end_time": "2021-01-10T09:22:50.733449",
     "exception": false,
     "start_time": "2021-01-10T09:22:50.611927",
     "status": "completed"
    },
    "tags": []
   },
   "outputs": [],
   "source": [
    "def predict(data):\n",
    "    data = data/255.0\n",
    "    data = data.reshape(-1,28,28,1)\n",
    "    answer = np.argmax(model.predict(data))\n",
    "    return answer"
   ]
  },
  {
   "cell_type": "code",
   "execution_count": 17,
   "metadata": {
    "execution": {
     "iopub.execute_input": "2021-01-10T09:22:50.971485Z",
     "iopub.status.busy": "2021-01-10T09:22:50.970873Z",
     "iopub.status.idle": "2021-01-10T09:22:50.974353Z",
     "shell.execute_reply": "2021-01-10T09:22:50.973884Z"
    },
    "papermill": {
     "duration": 0.127019,
     "end_time": "2021-01-10T09:22:50.974439",
     "exception": false,
     "start_time": "2021-01-10T09:22:50.847420",
     "status": "completed"
    },
    "tags": []
   },
   "outputs": [],
   "source": [
    "submission = pd.DataFrame(columns=[\"ImageId\",\"Label\"])"
   ]
  },
  {
   "cell_type": "code",
   "execution_count": 18,
   "metadata": {
    "execution": {
     "iopub.execute_input": "2021-01-10T09:22:51.212625Z",
     "iopub.status.busy": "2021-01-10T09:22:51.212073Z",
     "iopub.status.idle": "2021-01-10T09:22:53.656928Z",
     "shell.execute_reply": "2021-01-10T09:22:53.656062Z"
    },
    "papermill": {
     "duration": 2.569107,
     "end_time": "2021-01-10T09:22:53.657104",
     "exception": false,
     "start_time": "2021-01-10T09:22:51.087997",
     "status": "completed"
    },
    "tags": []
   },
   "outputs": [],
   "source": [
    "test = pd.read_csv(\"../input/digit-recognizer/test.csv\").values"
   ]
  },
  {
   "cell_type": "code",
   "execution_count": 19,
   "metadata": {
    "execution": {
     "iopub.execute_input": "2021-01-10T09:22:54.031411Z",
     "iopub.status.busy": "2021-01-10T09:22:54.030583Z",
     "iopub.status.idle": "2021-01-10T09:38:38.396296Z",
     "shell.execute_reply": "2021-01-10T09:38:38.396766Z"
    },
    "papermill": {
     "duration": 944.528839,
     "end_time": "2021-01-10T09:38:38.396904",
     "exception": false,
     "start_time": "2021-01-10T09:22:53.868065",
     "status": "completed"
    },
    "tags": []
   },
   "outputs": [
    {
     "data": {
      "text/html": [
       "<div>\n",
       "<style scoped>\n",
       "    .dataframe tbody tr th:only-of-type {\n",
       "        vertical-align: middle;\n",
       "    }\n",
       "\n",
       "    .dataframe tbody tr th {\n",
       "        vertical-align: top;\n",
       "    }\n",
       "\n",
       "    .dataframe thead th {\n",
       "        text-align: right;\n",
       "    }\n",
       "</style>\n",
       "<table border=\"1\" class=\"dataframe\">\n",
       "  <thead>\n",
       "    <tr style=\"text-align: right;\">\n",
       "      <th></th>\n",
       "      <th>ImageId</th>\n",
       "      <th>Label</th>\n",
       "    </tr>\n",
       "  </thead>\n",
       "  <tbody>\n",
       "    <tr>\n",
       "      <th>0</th>\n",
       "      <td>1</td>\n",
       "      <td>2</td>\n",
       "    </tr>\n",
       "    <tr>\n",
       "      <th>1</th>\n",
       "      <td>2</td>\n",
       "      <td>0</td>\n",
       "    </tr>\n",
       "    <tr>\n",
       "      <th>2</th>\n",
       "      <td>3</td>\n",
       "      <td>9</td>\n",
       "    </tr>\n",
       "    <tr>\n",
       "      <th>3</th>\n",
       "      <td>4</td>\n",
       "      <td>9</td>\n",
       "    </tr>\n",
       "    <tr>\n",
       "      <th>4</th>\n",
       "      <td>5</td>\n",
       "      <td>3</td>\n",
       "    </tr>\n",
       "  </tbody>\n",
       "</table>\n",
       "</div>"
      ],
      "text/plain": [
       "  ImageId Label\n",
       "0       1     2\n",
       "1       2     0\n",
       "2       3     9\n",
       "3       4     9\n",
       "4       5     3"
      ]
     },
     "execution_count": 19,
     "metadata": {},
     "output_type": "execute_result"
    }
   ],
   "source": [
    "n = 0\n",
    "for val in test:\n",
    "    n+=1\n",
    "    submission = submission.append({\"ImageId\":n,\"Label\":predict(val)},ignore_index=True)\n",
    "submission.head()"
   ]
  },
  {
   "cell_type": "code",
   "execution_count": 20,
   "metadata": {
    "execution": {
     "iopub.execute_input": "2021-01-10T09:38:38.625711Z",
     "iopub.status.busy": "2021-01-10T09:38:38.625208Z",
     "iopub.status.idle": "2021-01-10T09:38:38.947765Z",
     "shell.execute_reply": "2021-01-10T09:38:38.949205Z"
    },
    "papermill": {
     "duration": 0.440256,
     "end_time": "2021-01-10T09:38:38.949419",
     "exception": false,
     "start_time": "2021-01-10T09:38:38.509163",
     "status": "completed"
    },
    "tags": []
   },
   "outputs": [],
   "source": [
    "submission.to_csv('submission.csv')"
   ]
  },
  {
   "cell_type": "code",
   "execution_count": null,
   "metadata": {
    "papermill": {
     "duration": 0.113516,
     "end_time": "2021-01-10T09:38:39.197222",
     "exception": false,
     "start_time": "2021-01-10T09:38:39.083706",
     "status": "completed"
    },
    "tags": []
   },
   "outputs": [],
   "source": []
  }
 ],
 "metadata": {
  "kernelspec": {
   "display_name": "Python 3",
   "language": "python",
   "name": "python3"
  },
  "language_info": {
   "codemirror_mode": {
    "name": "ipython",
    "version": 3
   },
   "file_extension": ".py",
   "mimetype": "text/x-python",
   "name": "python",
   "nbconvert_exporter": "python",
   "pygments_lexer": "ipython3",
   "version": "3.7.6"
  },
  "papermill": {
   "duration": 990.017036,
   "end_time": "2021-01-10T09:38:41.061144",
   "environment_variables": {},
   "exception": null,
   "input_path": "__notebook__.ipynb",
   "output_path": "__notebook__.ipynb",
   "parameters": {},
   "start_time": "2021-01-10T09:22:11.044108",
   "version": "2.1.0"
  }
 },
 "nbformat": 4,
 "nbformat_minor": 4
}
